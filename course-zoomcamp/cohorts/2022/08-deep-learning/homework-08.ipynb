{
 "cells": [
  {
   "cell_type": "markdown",
   "id": "70107416",
   "metadata": {},
   "source": [
    "# Homework: 8"
   ]
  },
  {
   "cell_type": "markdown",
   "id": "3ccb76fb",
   "metadata": {},
   "source": [
    "## Dataset\n",
    "\n",
    "In this homework, we'll build a model for predicting if we have an image of a dino or a dragon. For this, we will use the \"Dino or Dragon?\" dataset that can be downloaded from [Kaggle](https://www.kaggle.com/datasets/agrigorev/dino-or-dragon). \n",
    "\n",
    "You can get a wget-able version [here](https://github.com/alexeygrigorev/dino-or-dragon/releases/download/data/dino-dragon.zip):\n",
    "\n",
    "```bash\n",
    "wget https://github.com/alexeygrigorev/dino-or-dragon/releases/download/data/dino-dragon.zip\n",
    "unzip dino-dragon.zip\n",
    "```\n",
    "\n",
    "In the lectures we saw how to use a pre-trained neural network. In the homework, we'll train a much smaller model from scratch. \n",
    "\n",
    "**Note:** You will need an environment with a GPU for this homework. We recommend to use [Saturn Cloud](https://bit.ly/saturn-mlzoomcamp). \n",
    "You can also use a computer without a GPU (e.g. your laptop), but it will be slower."
   ]
  },
  {
   "cell_type": "code",
   "execution_count": 1,
   "id": "d4a2a4ef",
   "metadata": {},
   "outputs": [],
   "source": [
    "import os\n",
    "import warnings\n",
    "\n",
    "from collections import namedtuple\n",
    "from pathlib import Path\n",
    "\n",
    "os.environ['TF_CPP_MIN_LOG_LEVEL'] = '3'  # or any {'0', '1', '2'}"
   ]
  },
  {
   "cell_type": "code",
   "execution_count": 2,
   "id": "97154cfe",
   "metadata": {},
   "outputs": [],
   "source": [
    "import matplotlib.pyplot as plt\n",
    "import numpy as np\n",
    "import tensorflow as tf\n",
    "\n",
    "# squash error messages and warnings and set global seed value\n",
    "tf.get_logger().setLevel('ERROR')\n",
    "tf.autograph.set_verbosity(1)\n",
    "warnings.simplefilter(action='ignore')\n",
    "warnings.filterwarnings(action='ignore')\n",
    "np.random.seed(42)\n",
    "%matplotlib inline"
   ]
  },
  {
   "cell_type": "code",
   "execution_count": 3,
   "id": "23221ac4",
   "metadata": {},
   "outputs": [],
   "source": [
    "from tensorflow import keras\n",
    "from tensorflow.keras.applications.xception import decode_predictions, preprocess_input, Xception\n",
    "from tensorflow.keras.preprocessing.image import ImageDataGenerator\n",
    "from tensorflow.keras.utils import load_img"
   ]
  },
  {
   "cell_type": "code",
   "execution_count": 4,
   "id": "a6042069",
   "metadata": {},
   "outputs": [],
   "source": [
    "# allocate more memory to tensorflow\n",
    "config = tf.compat.v1.ConfigProto()\n",
    "config.gpu_options.allow_growth = True\n",
    "session = tf.compat.v1.Session(config=config)"
   ]
  },
  {
   "cell_type": "markdown",
   "id": "991b620f",
   "metadata": {},
   "source": [
    "## Data Preparation\n",
    "\n",
    "The dataset contains around 1900 images of dinos and around 1900 images of dragons. \n",
    "\n",
    "The dataset contains separate folders for training and validation. "
   ]
  },
  {
   "cell_type": "markdown",
   "id": "8290a10d",
   "metadata": {},
   "source": [
    "## Model\n",
    "\n",
    "For this homework we will use Convolutional Neural Network (CNN). Like in the lectures, we'll use Keras.\n",
    "\n",
    "You need to develop the model with following structure:\n",
    "\n",
    "* The shape for input should be `(150, 150, 3)`\n",
    "* Next, create a convolutional layer ([`Conv2D`](https://keras.io/api/layers/convolution_layers/convolution2d/)):\n",
    "    * Use 32 filters\n",
    "    * Kernel size should be `(3, 3)` (that's the size of the filter)\n",
    "    * Use `'relu'` as activation \n",
    "* Reduce the size of the feature map with max pooling ([`MaxPooling2D`](https://keras.io/api/layers/pooling_layers/max_pooling2d/))\n",
    "    * Set the pooling size to `(2, 2)`\n",
    "* Turn the multi-dimensional result into vectors using a [`Flatten`](https://keras.io/api/layers/reshaping_layers/flatten/) layer\n",
    "* Next, add a `Dense` layer with 64 neurons and `'relu'` activation\n",
    "* Finally, create the `Dense` layer with 1 neuron - this will be the output\n",
    "    * The output layer should have an activation - use the appropriate activation for the binary classification case\n",
    "\n",
    "As optimizer use [`SGD`](https://keras.io/api/optimizers/sgd/) with the following parameters:\n",
    "\n",
    "* `SGD(lr=0.002, momentum=0.8)`\n",
    "\n",
    "For clarification about kernel size and max pooling, check [Office Hours](https://www.youtube.com/watch?v=1WRgdBTUaAc)."
   ]
  },
  {
   "cell_type": "markdown",
   "id": "e61daf48",
   "metadata": {},
   "source": [
    "### Question 1\n",
    "\n",
    "Since we have a binary classification problem, what is the best loss function for us?\n",
    "\n",
    "- **`binary crossentropy`**\n",
    "- `focal loss`\n",
    "- `mean squared error`\n",
    "- `categorical crossentropy`\n",
    "\n",
    "Note: since we specify an activation for the output layer, we don't need to set `from_logits=True`"
   ]
  },
  {
   "cell_type": "markdown",
   "id": "00e9bb13",
   "metadata": {},
   "source": [
    "### Generate Training and Testing Sets"
   ]
  },
  {
   "cell_type": "code",
   "execution_count": 5,
   "id": "0437b81b",
   "metadata": {},
   "outputs": [],
   "source": [
    "def gen_train_test_sets(training, testing, target_size=(150, 150)):\n",
    "    train_gen = ImageDataGenerator(preprocessing_function=preprocess_input)\n",
    "    train_ds = train_gen.flow_from_directory(\n",
    "        training,\n",
    "        target_size=target_size,\n",
    "        batch_size=32,\n",
    "        seed=42,\n",
    "    )\n",
    "\n",
    "    test_gen = ImageDataGenerator(preprocessing_function=preprocess_input)\n",
    "    test_ds = test_gen.flow_from_directory(\n",
    "        testing,\n",
    "        target_size=target_size,\n",
    "        shuffle=False,\n",
    "        seed=42,\n",
    "    )\n",
    "    \n",
    "    return train_gen, train_ds, test_gen, test_ds"
   ]
  },
  {
   "cell_type": "markdown",
   "id": "87b72dfa",
   "metadata": {},
   "source": [
    "### Create the model"
   ]
  },
  {
   "cell_type": "code",
   "execution_count": 6,
   "id": "d61f19bf",
   "metadata": {},
   "outputs": [],
   "source": [
    "def create_model(epochs):\n",
    "    inputs = keras.Input(shape=(150, 150, 3))\n",
    "    convolution = keras.layers.Conv2D(32, kernel_size=(3, 3), activation='relu')(inputs)\n",
    "    reduce = keras.layers.MaxPooling2D(pool_size=(2, 2))(convolution)\n",
    "    vectors = keras.layers.Flatten()(reduce)\n",
    "    dense = keras.layers.Dense(64, activation='relu')(vectors)\n",
    "    outputs = keras.layers.Dense(1, activation='sigmoid')(dense)\n",
    "    model = keras.Model(inputs, outputs)\n",
    "    \n",
    "    optimizer = keras.optimizers.SGD(lr=0.002, momentum=0.8)\n",
    "    model.compile(\n",
    "        optimizer=optimizer,\n",
    "        loss='binary_crossentropy',\n",
    "        metrics=['accuracy']\n",
    "    )\n",
    "    \n",
    "    history = model.fit(\n",
    "        train_ds,\n",
    "        validation_data=test_ds,\n",
    "        epochs=epochs,\n",
    "    )\n",
    "    \n",
    "    return model, history"
   ]
  },
  {
   "cell_type": "markdown",
   "id": "3e0f038e",
   "metadata": {},
   "source": [
    "### Evaluate the model"
   ]
  },
  {
   "cell_type": "code",
   "execution_count": 7,
   "id": "b5129ce7",
   "metadata": {},
   "outputs": [],
   "source": [
    "def evaluate_model(model, train_ds, test_ds, steps=12):\n",
    "    test_ds.reset()\n",
    "    pred = model.predict_generator(\n",
    "        test_ds,\n",
    "        steps=steps,\n",
    "        verbose=0,\n",
    "    )\n",
    "\n",
    "    predicted_class_indices = np.argmax(pred, axis=1)\n",
    "\n",
    "    labels = (train_ds.class_indices)\n",
    "    labels = dict((v,k) for k,v in labels.items())\n",
    "    predictions = [labels[k] for k in predicted_class_indices]\n",
    "    \n",
    "    return predictions"
   ]
  },
  {
   "cell_type": "markdown",
   "id": "6d49a393",
   "metadata": {},
   "source": [
    "### Plot the model"
   ]
  },
  {
   "cell_type": "code",
   "execution_count": 8,
   "id": "c4d8775a",
   "metadata": {},
   "outputs": [],
   "source": [
    "def plot_history(history, loss_function):\n",
    "    plt.plot(history.history['val_accuracy'], label='val')\n",
    "    plt.plot(history.history['accuracy'], label='train')\n",
    "    plt.xticks(np.arange(10))\n",
    "    plt.title(f\"{loss_function}: {np.mean(history.history['val_accuracy']):.3f}\")\n",
    "    plt.legend()\n",
    "    plt.show()"
   ]
  },
  {
   "cell_type": "markdown",
   "id": "9237a39e",
   "metadata": {},
   "source": [
    "### Unifying function"
   ]
  },
  {
   "cell_type": "code",
   "execution_count": 9,
   "id": "732bfaeb",
   "metadata": {},
   "outputs": [],
   "source": [
    "def eval_model(epochs=10):\n",
    "    model, history = create_model(epochs=epochs)\n",
    "    score = model.evaluate_generator(generator=test_ds)[1]\n",
    "    print(model.summary())"
   ]
  },
  {
   "cell_type": "markdown",
   "id": "5247333a",
   "metadata": {},
   "source": [
    "## Common variables used with all models"
   ]
  },
  {
   "cell_type": "code",
   "execution_count": 10,
   "id": "ceeca072",
   "metadata": {},
   "outputs": [
    {
     "name": "stdout",
     "output_type": "stream",
     "text": [
      "Found 1594 images belonging to 2 classes.\n",
      "Found 394 images belonging to 2 classes.\n"
     ]
    }
   ],
   "source": [
    "training_data = Path('data', 'train')\n",
    "testing_data = Path('data', 'test')\n",
    "train_gen, train_ds, test_gen, test_ds = gen_train_test_sets(training_data, testing_data)"
   ]
  },
  {
   "cell_type": "markdown",
   "id": "a6a0fbb6",
   "metadata": {},
   "source": [
    "## Binary Cross Entropy"
   ]
  },
  {
   "cell_type": "code",
   "execution_count": 11,
   "id": "e2b9e1d6",
   "metadata": {
    "scrolled": false
   },
   "outputs": [
    {
     "name": "stdout",
     "output_type": "stream",
     "text": [
      "Epoch 1/10\n",
      "50/50 [==============================] - 9s 131ms/step - loss: 0.6946 - accuracy: 0.5000 - val_loss: 0.6935 - val_accuracy: 0.5000\n",
      "Epoch 2/10\n",
      "50/50 [==============================] - 6s 126ms/step - loss: 0.6934 - accuracy: 0.5000 - val_loss: 0.6933 - val_accuracy: 0.5000\n",
      "Epoch 3/10\n",
      "50/50 [==============================] - 6s 125ms/step - loss: 0.6933 - accuracy: 0.5000 - val_loss: 0.6933 - val_accuracy: 0.5000\n",
      "Epoch 4/10\n",
      "50/50 [==============================] - 6s 125ms/step - loss: 0.6932 - accuracy: 0.5000 - val_loss: 0.6933 - val_accuracy: 0.5000\n",
      "Epoch 5/10\n",
      "50/50 [==============================] - 6s 125ms/step - loss: 0.6932 - accuracy: 0.5000 - val_loss: 0.6932 - val_accuracy: 0.5000\n",
      "Epoch 6/10\n",
      "50/50 [==============================] - 6s 125ms/step - loss: 0.6932 - accuracy: 0.5000 - val_loss: 0.6932 - val_accuracy: 0.5000\n",
      "Epoch 7/10\n",
      "50/50 [==============================] - 6s 124ms/step - loss: 0.6932 - accuracy: 0.5000 - val_loss: 0.6932 - val_accuracy: 0.5000\n",
      "Epoch 8/10\n",
      "50/50 [==============================] - 6s 125ms/step - loss: 0.6932 - accuracy: 0.5000 - val_loss: 0.6932 - val_accuracy: 0.5000\n",
      "Epoch 9/10\n",
      "50/50 [==============================] - 6s 125ms/step - loss: 0.6932 - accuracy: 0.5000 - val_loss: 0.6932 - val_accuracy: 0.5000\n",
      "Epoch 10/10\n",
      "50/50 [==============================] - 6s 125ms/step - loss: 0.6932 - accuracy: 0.5000 - val_loss: 0.6932 - val_accuracy: 0.5000\n",
      "Model: \"model\"\n",
      "_________________________________________________________________\n",
      " Layer (type)                Output Shape              Param #   \n",
      "=================================================================\n",
      " input_1 (InputLayer)        [(None, 150, 150, 3)]     0         \n",
      "                                                                 \n",
      " conv2d (Conv2D)             (None, 148, 148, 32)      896       \n",
      "                                                                 \n",
      " max_pooling2d (MaxPooling2D  (None, 74, 74, 32)       0         \n",
      " )                                                               \n",
      "                                                                 \n",
      " flatten (Flatten)           (None, 175232)            0         \n",
      "                                                                 \n",
      " dense (Dense)               (None, 64)                11214912  \n",
      "                                                                 \n",
      " dense_1 (Dense)             (None, 1)                 65        \n",
      "                                                                 \n",
      "=================================================================\n",
      "Total params: 11,215,873\n",
      "Trainable params: 11,215,873\n",
      "Non-trainable params: 0\n",
      "_________________________________________________________________\n",
      "None\n"
     ]
    }
   ],
   "source": [
    "eval_model()"
   ]
  },
  {
   "cell_type": "markdown",
   "id": "073ac2ec",
   "metadata": {},
   "source": [
    "### Question 2\n",
    "\n",
    "What's the total number of parameters of the model? You can use the `summary` method for that. \n",
    "\n",
    "- 9215873\n",
    "- **11215873**\n",
    "- 14215873\n",
    "- 19215873"
   ]
  },
  {
   "cell_type": "markdown",
   "id": "abae1a6b",
   "metadata": {},
   "source": [
    "## Generators and Training\n",
    "\n",
    "For the next two questions, use the following data generator for both train and validation:\n",
    "\n",
    "```python\n",
    "ImageDataGenerator(rescale=1./255)\n",
    "```\n",
    "\n",
    "* We don't need to do any additional pre-processing for the images.\n",
    "* When reading the data from train/val directories, check the `class_mode` parameter. Which value should it be for a binary classification problem?\n",
    "* Use `batch_size=20`\n",
    "* Use `shuffle=True` for both training and validation \n",
    "\n",
    "For training use `.fit()` with the following params:\n",
    "\n",
    "```python\n",
    "model.fit(\n",
    "    train_generator,\n",
    "    epochs=10,\n",
    "    validation_data=validation_generator\n",
    ")\n",
    "```"
   ]
  },
  {
   "cell_type": "code",
   "execution_count": 12,
   "id": "0068a083",
   "metadata": {},
   "outputs": [],
   "source": [
    "def gen_train_test_sets2(training, testing, target_size=(150, 150)):\n",
    "    train_gen = ImageDataGenerator(rescale=1./255)\n",
    "    train_ds = train_gen.flow_from_directory(\n",
    "        training,\n",
    "        target_size=target_size,\n",
    "        batch_size=20,\n",
    "        class_mode='binary',\n",
    "        shuffle=True,\n",
    "        seed=42,\n",
    "    )\n",
    "\n",
    "    test_gen = ImageDataGenerator(rescale=1./255)\n",
    "    test_ds = test_gen.flow_from_directory(\n",
    "        testing,\n",
    "        target_size=target_size,\n",
    "        batch_size=1,\n",
    "        class_mode='binary',\n",
    "        shuffle=True,\n",
    "        seed=42,\n",
    "    )\n",
    "    \n",
    "    return train_ds, test_ds"
   ]
  },
  {
   "cell_type": "code",
   "execution_count": 13,
   "id": "3ecf78b7",
   "metadata": {},
   "outputs": [],
   "source": [
    "def create_model2(epochs):\n",
    "    inputs = keras.Input(shape=(150, 150, 3))\n",
    "    convolution = keras.layers.Conv2D(32, kernel_size=(3, 3), activation='relu')(inputs)\n",
    "    reduce = keras.layers.MaxPooling2D(pool_size=(2, 2))(convolution)\n",
    "    vectors = keras.layers.Flatten()(reduce)\n",
    "    dense = keras.layers.Dense(64, activation='relu')(vectors)\n",
    "    outputs = keras.layers.Dense(1, activation='sigmoid')(dense)\n",
    "    model = keras.Model(inputs, outputs)\n",
    "    \n",
    "    optimizer = keras.optimizers.SGD(lr=0.002, momentum=0.8)\n",
    "    model.compile(\n",
    "        optimizer=optimizer,\n",
    "        loss='binary_crossentropy',\n",
    "        metrics=['accuracy']\n",
    "    )\n",
    "    \n",
    "    history = model.fit(\n",
    "        train_ds,\n",
    "        validation_data=test_ds,\n",
    "        epochs=epochs,\n",
    "    )\n",
    "    \n",
    "    return model, history"
   ]
  },
  {
   "cell_type": "code",
   "execution_count": 14,
   "id": "e9f06c36",
   "metadata": {},
   "outputs": [],
   "source": [
    "def plot_history2(history, loss_function):\n",
    "    plt.plot(history.history['val_accuracy'], label='val')\n",
    "    plt.plot(history.history['accuracy'], label='train')\n",
    "    plt.xticks(np.arange(10))\n",
    "    plt.title(f\"{loss_function}: {np.mean(history.history['val_accuracy']):.3f}\")\n",
    "    plt.legend()\n",
    "    plt.show()"
   ]
  },
  {
   "cell_type": "code",
   "execution_count": 15,
   "id": "f4b66f16",
   "metadata": {},
   "outputs": [],
   "source": [
    "def eval_model2(epochs=10):\n",
    "    model, history = create_model2(\n",
    "        epochs=epochs,\n",
    "    )\n",
    "    score = model.evaluate_generator(generator=test_ds)[1]\n",
    "    plot_history(history, 'binary_crossentropy')\n",
    "    predictions = evaluate_model(model, train_ds, test_ds)\n",
    "    print(f'binary_crossentropy: {score}')\n",
    "    print(f'  training accuracy: {np.median(history.history[\"accuracy\"]):.2f}')\n",
    "    print(f' standard deviation: {np.std(history.history[\"loss\"]):.2f}')\n",
    "    \n",
    "    return model, predictions"
   ]
  },
  {
   "cell_type": "code",
   "execution_count": 16,
   "id": "1cd87f40",
   "metadata": {},
   "outputs": [
    {
     "name": "stdout",
     "output_type": "stream",
     "text": [
      "Found 1594 images belonging to 2 classes.\n",
      "Found 394 images belonging to 2 classes.\n"
     ]
    }
   ],
   "source": [
    "training_data = Path('data', 'train')\n",
    "testing_data = Path('data', 'test')\n",
    "train_ds, test_ds = gen_train_test_sets2(training_data, testing_data)"
   ]
  },
  {
   "cell_type": "code",
   "execution_count": 17,
   "id": "8518cc1d",
   "metadata": {},
   "outputs": [
    {
     "name": "stdout",
     "output_type": "stream",
     "text": [
      "Epoch 1/10\n",
      "80/80 [==============================] - 8s 89ms/step - loss: 0.6736 - accuracy: 0.5853 - val_loss: 0.6216 - val_accuracy: 0.6650\n",
      "Epoch 2/10\n",
      "80/80 [==============================] - 7s 87ms/step - loss: 0.5462 - accuracy: 0.7566 - val_loss: 0.4563 - val_accuracy: 0.8401\n",
      "Epoch 3/10\n",
      "80/80 [==============================] - 7s 88ms/step - loss: 0.4338 - accuracy: 0.8262 - val_loss: 0.3868 - val_accuracy: 0.8426\n",
      "Epoch 4/10\n",
      "80/80 [==============================] - 7s 90ms/step - loss: 0.3587 - accuracy: 0.8607 - val_loss: 0.3489 - val_accuracy: 0.8528\n",
      "Epoch 5/10\n",
      "80/80 [==============================] - 7s 86ms/step - loss: 0.3203 - accuracy: 0.8770 - val_loss: 0.3209 - val_accuracy: 0.8680\n",
      "Epoch 6/10\n",
      "80/80 [==============================] - 7s 87ms/step - loss: 0.2928 - accuracy: 0.8814 - val_loss: 0.4277 - val_accuracy: 0.8020\n",
      "Epoch 7/10\n",
      "80/80 [==============================] - 7s 87ms/step - loss: 0.2670 - accuracy: 0.9053 - val_loss: 0.3048 - val_accuracy: 0.8731\n",
      "Epoch 8/10\n",
      "80/80 [==============================] - 7s 87ms/step - loss: 0.2342 - accuracy: 0.9159 - val_loss: 0.2958 - val_accuracy: 0.8756\n",
      "Epoch 9/10\n",
      "80/80 [==============================] - 7s 88ms/step - loss: 0.1993 - accuracy: 0.9341 - val_loss: 0.3270 - val_accuracy: 0.8452\n",
      "Epoch 10/10\n",
      "80/80 [==============================] - 7s 88ms/step - loss: 0.1894 - accuracy: 0.9285 - val_loss: 0.2764 - val_accuracy: 0.8858\n"
     ]
    },
    {
     "data": {
      "image/png": "[encoded data removed]",
      "text/plain": [
       "<Figure size 640x480 with 1 Axes>"
      ]
     },
     "metadata": {},
     "output_type": "display_data"
    },
    {
     "name": "stdout",
     "output_type": "stream",
     "text": [
      "binary_crossentropy: 0.8857868313789368\n",
      "  training accuracy: 0.88\n",
      " standard deviation: 0.15\n"
     ]
    }
   ],
   "source": [
    "model, pred2 = eval_model2()"
   ]
  },
  {
   "cell_type": "markdown",
   "id": "3c0df895",
   "metadata": {},
   "source": [
    "### Question 3\n",
    "\n",
    "What is the median of training accuracy for all the epochs for this model?\n",
    "\n",
    "- 0.40\n",
    "- 0.60\n",
    "- **0.90**\n",
    "- 0.20"
   ]
  },
  {
   "cell_type": "markdown",
   "id": "6f6118a0",
   "metadata": {},
   "source": [
    "### Question 4\n",
    "\n",
    "What is the standard deviation of training loss for all the epochs for this model?\n",
    "\n",
    "- **0.11**\n",
    "- 0.66\n",
    "- 0.99\n",
    "- 0.33"
   ]
  },
  {
   "cell_type": "markdown",
   "id": "205b23c5",
   "metadata": {},
   "source": [
    "## Data Augmentation\n",
    "\n",
    "For the next two questions, we'll generate more data using data augmentations. \n",
    "\n",
    "Add the following augmentations to your training data generator:\n",
    "\n",
    "* `rotation_range=40,`\n",
    "* `width_shift_range=0.2,`\n",
    "* `height_shift_range=0.2,`\n",
    "* `shear_range=0.2,`\n",
    "* `zoom_range=0.2,`\n",
    "* `horizontal_flip=True,`\n",
    "* `fill_mode='nearest'`"
   ]
  },
  {
   "cell_type": "code",
   "execution_count": 18,
   "id": "d7b1a620",
   "metadata": {},
   "outputs": [],
   "source": [
    "def gen_train_test_sets3(training, testing, target_size=(150, 150)):\n",
    "    train_gen = ImageDataGenerator(\n",
    "        rescale=1./255,\n",
    "        rotation_range=40,\n",
    "        width_shift_range=0.2,\n",
    "        height_shift_range=0.2,\n",
    "        shear_range=0.2,\n",
    "        zoom_range=0.2,\n",
    "        horizontal_flip=True,\n",
    "        fill_mode='nearest',\n",
    "    )\n",
    "    train_ds = train_gen.flow_from_directory(\n",
    "        training,\n",
    "        target_size=target_size,\n",
    "        batch_size=20,\n",
    "        class_mode='binary',\n",
    "        shuffle=True,\n",
    "        seed=42,\n",
    "    )\n",
    "\n",
    "    test_gen = ImageDataGenerator(rescale=1./255)\n",
    "    test_ds = test_gen.flow_from_directory(\n",
    "        testing,\n",
    "        target_size=target_size,\n",
    "        batch_size=1,\n",
    "        class_mode='binary',\n",
    "        shuffle=True,\n",
    "        seed=42,\n",
    "    )\n",
    "    \n",
    "    return train_ds, test_ds"
   ]
  },
  {
   "cell_type": "code",
   "execution_count": 19,
   "id": "65a9bc1e",
   "metadata": {},
   "outputs": [
    {
     "name": "stdout",
     "output_type": "stream",
     "text": [
      "Found 1594 images belonging to 2 classes.\n",
      "Found 394 images belonging to 2 classes.\n",
      "Epoch 1/10\n",
      "80/80 [==============================] - 12s 152ms/step - loss: 0.4480 - accuracy: 0.7955 - val_loss: 0.4404 - val_accuracy: 0.7843\n",
      "Epoch 2/10\n",
      "80/80 [==============================] - 12s 152ms/step - loss: 0.4286 - accuracy: 0.8087 - val_loss: 0.4284 - val_accuracy: 0.7995\n",
      "Epoch 3/10\n",
      "80/80 [==============================] - 12s 153ms/step - loss: 0.4096 - accuracy: 0.8137 - val_loss: 0.3456 - val_accuracy: 0.8452\n",
      "Epoch 4/10\n",
      "80/80 [==============================] - 12s 155ms/step - loss: 0.4172 - accuracy: 0.7992 - val_loss: 0.5234 - val_accuracy: 0.7665\n",
      "Epoch 5/10\n",
      "80/80 [==============================] - 12s 154ms/step - loss: 0.3908 - accuracy: 0.8256 - val_loss: 0.5595 - val_accuracy: 0.7411\n",
      "Epoch 6/10\n",
      "80/80 [==============================] - 12s 150ms/step - loss: 0.3952 - accuracy: 0.8256 - val_loss: 0.4535 - val_accuracy: 0.7970\n",
      "Epoch 7/10\n",
      "80/80 [==============================] - 12s 147ms/step - loss: 0.3811 - accuracy: 0.8356 - val_loss: 0.3075 - val_accuracy: 0.8680\n",
      "Epoch 8/10\n",
      "80/80 [==============================] - 12s 152ms/step - loss: 0.3723 - accuracy: 0.8325 - val_loss: 0.2915 - val_accuracy: 0.8629\n",
      "Epoch 9/10\n",
      "80/80 [==============================] - 12s 152ms/step - loss: 0.3436 - accuracy: 0.8494 - val_loss: 0.3881 - val_accuracy: 0.8452\n",
      "Epoch 10/10\n",
      "80/80 [==============================] - 12s 150ms/step - loss: 0.3380 - accuracy: 0.8614 - val_loss: 0.3130 - val_accuracy: 0.8706\n",
      "        binary_crossentropy: 0.8705583810806274\n",
      "       mean validation loss: 0.41\n",
      "average validation accuracy: 0.81\n"
     ]
    }
   ],
   "source": [
    "train_ds, test_ds = gen_train_test_sets3(training_data, testing_data)\n",
    "    \n",
    "history = model.fit(\n",
    "    train_ds,\n",
    "    validation_data=test_ds,\n",
    "    epochs=10,\n",
    ")\n",
    "\n",
    "score = model.evaluate_generator(generator=test_ds)[1]\n",
    "predictions = evaluate_model(model, train_ds, test_ds)\n",
    "print(f'        binary_crossentropy: {score}')\n",
    "print(f'       mean validation loss: {np.mean(history.history[\"val_loss\"]):.2f}')\n",
    "print(f'average validation accuracy: {np.mean(history.history[\"accuracy\"][:-5]):.2f}')"
   ]
  },
  {
   "cell_type": "markdown",
   "id": "0f020397",
   "metadata": {},
   "source": [
    "### Question 5 \n",
    "\n",
    "Let's train our model for 10 more epochs using the same code as previously.\n",
    "Make sure you don't re-create the model - we want to continue training the model\n",
    "we already started training.\n",
    "\n",
    "What is the mean of validation loss for all the epochs for the model trained with augmentations?\n",
    "\n",
    "- 0.15\n",
    "- 0.77\n",
    "- **0.37**\n",
    "- 0.97"
   ]
  },
  {
   "cell_type": "markdown",
   "id": "e34f2dda",
   "metadata": {},
   "source": [
    "### Question 6\n",
    "\n",
    "What's the average of validation accuracy for the last 5 epochs (from 6 to 10)\n",
    "for the model trained with augmentations?\n",
    "\n",
    "- **0.84**\n",
    "- 0.54\n",
    "- 0.44\n",
    "- 0.24"
   ]
  },
  {
   "cell_type": "code",
   "execution_count": null,
   "id": "ef3e69a4",
   "metadata": {},
   "outputs": [],
   "source": []
  }
 ],
 "metadata": {
  "kernelspec": {
   "display_name": "Python 3 (ipykernel)",
   "language": "python",
   "name": "python3"
  },
  "language_info": {
   "codemirror_mode": {
    "name": "ipython",
    "version": 3
   },
   "file_extension": ".py",
   "mimetype": "text/x-python",
   "name": "python",
   "nbconvert_exporter": "python",
   "pygments_lexer": "ipython3",
   "version": "3.9.13"
  }
 },
 "nbformat": 4,
 "nbformat_minor": 5
}
